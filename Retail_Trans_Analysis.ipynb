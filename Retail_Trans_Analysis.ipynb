{
 "cells": [
  {
   "cell_type": "markdown",
   "metadata": {},
   "source": [
    "The dataset contains the transaction history of the 5 retail outlets of a company\n",
    "The dataset has 6 columns:\n",
    "1. RetailStore : The outlet number of the company\n",
    "2. CustomerID : The ID of the customer who has made the purchase\n",
    "3. TransactionID : The transaction ID\n",
    "4. TransactionTime : The time at which the  transaction took place\n",
    "5. ProductID : The product ID \n",
    "6. Cost : Cost of a unit of the product\n",
    "\n",
    "I have attempted to extract the folllowing details from this dataset\n",
    "1. Revenue collected per year\n",
    "2. Revenue collected per month\n",
    "3. Number of purchases made from each Retail outlet\n",
    "4. Revenue collected based on day of the week\n",
    "5. Most expensive product and it’s price\n",
    "6. Least expensive product and it’s price\n",
    "7. The oldest transaction\n",
    "8. Most recent transaction\n",
    "9. Top 10 trending products\n",
    "10. Products that are struggling in the market\n",
    "11. Performance of outlets based on the number of products sold\n",
    "12. Performance of outlets based on the revenue generated\n",
    "\n"
   ]
  },
  {
   "cell_type": "code",
   "execution_count": 1,
   "metadata": {},
   "outputs": [],
   "source": [
    "#importing the libraries\n",
    "import pandas as pd\n",
    "import numpy as np\n",
    "import matplotlib.pyplot as plt\n",
    "import seaborn as sns;sns.set()"
   ]
  },
  {
   "cell_type": "code",
   "execution_count": 2,
   "metadata": {},
   "outputs": [],
   "source": [
    "#Reading the dataset\n",
    "df = pd.read_csv(r\"C:\\Users\\HP\\Desktop\\Retail_trans_data.csv\")"
   ]
  },
  {
   "cell_type": "code",
   "execution_count": 3,
   "metadata": {},
   "outputs": [
    {
     "data": {
      "text/html": [
       "<div>\n",
       "<style scoped>\n",
       "    .dataframe tbody tr th:only-of-type {\n",
       "        vertical-align: middle;\n",
       "    }\n",
       "\n",
       "    .dataframe tbody tr th {\n",
       "        vertical-align: top;\n",
       "    }\n",
       "\n",
       "    .dataframe thead th {\n",
       "        text-align: right;\n",
       "    }\n",
       "</style>\n",
       "<table border=\"1\" class=\"dataframe\">\n",
       "  <thead>\n",
       "    <tr style=\"text-align: right;\">\n",
       "      <th></th>\n",
       "      <th>RetailStore</th>\n",
       "      <th>CustomerID</th>\n",
       "      <th>TransactionID</th>\n",
       "      <th>TransactionTime</th>\n",
       "      <th>ProductID</th>\n",
       "      <th>Cost</th>\n",
       "    </tr>\n",
       "  </thead>\n",
       "  <tbody>\n",
       "    <tr>\n",
       "      <th>0</th>\n",
       "      <td>1</td>\n",
       "      <td>1001</td>\n",
       "      <td>1ID10051</td>\n",
       "      <td>1/1/2011</td>\n",
       "      <td>1</td>\n",
       "      <td>144.75</td>\n",
       "    </tr>\n",
       "    <tr>\n",
       "      <th>1</th>\n",
       "      <td>2</td>\n",
       "      <td>1002</td>\n",
       "      <td>2ID10052</td>\n",
       "      <td>1/1/2011</td>\n",
       "      <td>2</td>\n",
       "      <td>97.25</td>\n",
       "    </tr>\n",
       "    <tr>\n",
       "      <th>2</th>\n",
       "      <td>2</td>\n",
       "      <td>1002</td>\n",
       "      <td>2ID10052</td>\n",
       "      <td>1/1/2011</td>\n",
       "      <td>3</td>\n",
       "      <td>47.25</td>\n",
       "    </tr>\n",
       "    <tr>\n",
       "      <th>3</th>\n",
       "      <td>2</td>\n",
       "      <td>1002</td>\n",
       "      <td>2ID10052</td>\n",
       "      <td>1/1/2011</td>\n",
       "      <td>4</td>\n",
       "      <td>197.25</td>\n",
       "    </tr>\n",
       "    <tr>\n",
       "      <th>4</th>\n",
       "      <td>3</td>\n",
       "      <td>1003</td>\n",
       "      <td>3ID10053</td>\n",
       "      <td>1/1/2011</td>\n",
       "      <td>5</td>\n",
       "      <td>216.00</td>\n",
       "    </tr>\n",
       "  </tbody>\n",
       "</table>\n",
       "</div>"
      ],
      "text/plain": [
       "   RetailStore  CustomerID TransactionID TransactionTime  ProductID    Cost\n",
       "0            1        1001      1ID10051        1/1/2011          1  144.75\n",
       "1            2        1002      2ID10052        1/1/2011          2   97.25\n",
       "2            2        1002      2ID10052        1/1/2011          3   47.25\n",
       "3            2        1002      2ID10052        1/1/2011          4  197.25\n",
       "4            3        1003      3ID10053        1/1/2011          5  216.00"
      ]
     },
     "execution_count": 3,
     "metadata": {},
     "output_type": "execute_result"
    }
   ],
   "source": [
    "#First 5 entries of the data set\n",
    "#The function head(n) returns the first n rows\n",
    "df.head(5)"
   ]
  },
  {
   "cell_type": "code",
   "execution_count": 4,
   "metadata": {},
   "outputs": [
    {
     "data": {
      "text/html": [
       "<div>\n",
       "<style scoped>\n",
       "    .dataframe tbody tr th:only-of-type {\n",
       "        vertical-align: middle;\n",
       "    }\n",
       "\n",
       "    .dataframe tbody tr th {\n",
       "        vertical-align: top;\n",
       "    }\n",
       "\n",
       "    .dataframe thead th {\n",
       "        text-align: right;\n",
       "    }\n",
       "</style>\n",
       "<table border=\"1\" class=\"dataframe\">\n",
       "  <thead>\n",
       "    <tr style=\"text-align: right;\">\n",
       "      <th></th>\n",
       "      <th>RetailStore</th>\n",
       "      <th>CustomerID</th>\n",
       "      <th>TransactionID</th>\n",
       "      <th>TransactionTime</th>\n",
       "      <th>ProductID</th>\n",
       "      <th>Cost</th>\n",
       "    </tr>\n",
       "  </thead>\n",
       "  <tbody>\n",
       "    <tr>\n",
       "      <th>56793</th>\n",
       "      <td>2</td>\n",
       "      <td>10272</td>\n",
       "      <td>2ID31814</td>\n",
       "      <td>3/24/2012</td>\n",
       "      <td>25</td>\n",
       "      <td>207.25</td>\n",
       "    </tr>\n",
       "    <tr>\n",
       "      <th>56794</th>\n",
       "      <td>5</td>\n",
       "      <td>11329</td>\n",
       "      <td>5ID31815</td>\n",
       "      <td>3/24/2012</td>\n",
       "      <td>26</td>\n",
       "      <td>274.50</td>\n",
       "    </tr>\n",
       "    <tr>\n",
       "      <th>56795</th>\n",
       "      <td>1</td>\n",
       "      <td>10469</td>\n",
       "      <td>1ID31816</td>\n",
       "      <td>3/24/2012</td>\n",
       "      <td>8</td>\n",
       "      <td>207.00</td>\n",
       "    </tr>\n",
       "    <tr>\n",
       "      <th>56796</th>\n",
       "      <td>5</td>\n",
       "      <td>11372</td>\n",
       "      <td>5ID31817</td>\n",
       "      <td>3/24/2012</td>\n",
       "      <td>31</td>\n",
       "      <td>1074.75</td>\n",
       "    </tr>\n",
       "    <tr>\n",
       "      <th>56797</th>\n",
       "      <td>5</td>\n",
       "      <td>11372</td>\n",
       "      <td>5ID31817</td>\n",
       "      <td>3/24/2012</td>\n",
       "      <td>31</td>\n",
       "      <td>1074.75</td>\n",
       "    </tr>\n",
       "  </tbody>\n",
       "</table>\n",
       "</div>"
      ],
      "text/plain": [
       "       RetailStore  CustomerID TransactionID TransactionTime  ProductID  \\\n",
       "56793            2       10272      2ID31814       3/24/2012         25   \n",
       "56794            5       11329      5ID31815       3/24/2012         26   \n",
       "56795            1       10469      1ID31816       3/24/2012          8   \n",
       "56796            5       11372      5ID31817       3/24/2012         31   \n",
       "56797            5       11372      5ID31817       3/24/2012         31   \n",
       "\n",
       "          Cost  \n",
       "56793   207.25  \n",
       "56794   274.50  \n",
       "56795   207.00  \n",
       "56796  1074.75  \n",
       "56797  1074.75  "
      ]
     },
     "execution_count": 4,
     "metadata": {},
     "output_type": "execute_result"
    }
   ],
   "source": [
    "#Last 5 entries of the data set\n",
    "#The function tail(n) returns the last n rows\n",
    "df.tail(5)"
   ]
  },
  {
   "cell_type": "code",
   "execution_count": 5,
   "metadata": {},
   "outputs": [
    {
     "data": {
      "text/html": [
       "<div>\n",
       "<style scoped>\n",
       "    .dataframe tbody tr th:only-of-type {\n",
       "        vertical-align: middle;\n",
       "    }\n",
       "\n",
       "    .dataframe tbody tr th {\n",
       "        vertical-align: top;\n",
       "    }\n",
       "\n",
       "    .dataframe thead th {\n",
       "        text-align: right;\n",
       "    }\n",
       "</style>\n",
       "<table border=\"1\" class=\"dataframe\">\n",
       "  <thead>\n",
       "    <tr style=\"text-align: right;\">\n",
       "      <th></th>\n",
       "      <th>RetailStore</th>\n",
       "      <th>CustomerID</th>\n",
       "      <th>ProductID</th>\n",
       "      <th>Cost</th>\n",
       "    </tr>\n",
       "  </thead>\n",
       "  <tbody>\n",
       "    <tr>\n",
       "      <th>count</th>\n",
       "      <td>56798.000000</td>\n",
       "      <td>56798.000000</td>\n",
       "      <td>56798.000000</td>\n",
       "      <td>56798.000000</td>\n",
       "    </tr>\n",
       "    <tr>\n",
       "      <th>mean</th>\n",
       "      <td>3.146766</td>\n",
       "      <td>5649.794465</td>\n",
       "      <td>22.501391</td>\n",
       "      <td>182.637368</td>\n",
       "    </tr>\n",
       "    <tr>\n",
       "      <th>std</th>\n",
       "      <td>1.397636</td>\n",
       "      <td>2903.974686</td>\n",
       "      <td>16.443369</td>\n",
       "      <td>116.831737</td>\n",
       "    </tr>\n",
       "    <tr>\n",
       "      <th>min</th>\n",
       "      <td>1.000000</td>\n",
       "      <td>1001.000000</td>\n",
       "      <td>1.000000</td>\n",
       "      <td>0.000000</td>\n",
       "    </tr>\n",
       "    <tr>\n",
       "      <th>25%</th>\n",
       "      <td>2.000000</td>\n",
       "      <td>3060.000000</td>\n",
       "      <td>9.000000</td>\n",
       "      <td>147.250000</td>\n",
       "    </tr>\n",
       "    <tr>\n",
       "      <th>50%</th>\n",
       "      <td>3.000000</td>\n",
       "      <td>5550.000000</td>\n",
       "      <td>20.000000</td>\n",
       "      <td>197.250000</td>\n",
       "    </tr>\n",
       "    <tr>\n",
       "      <th>75%</th>\n",
       "      <td>4.000000</td>\n",
       "      <td>8002.750000</td>\n",
       "      <td>32.000000</td>\n",
       "      <td>209.500000</td>\n",
       "    </tr>\n",
       "    <tr>\n",
       "      <th>max</th>\n",
       "      <td>5.000000</td>\n",
       "      <td>11372.000000</td>\n",
       "      <td>89.000000</td>\n",
       "      <td>1812.250000</td>\n",
       "    </tr>\n",
       "  </tbody>\n",
       "</table>\n",
       "</div>"
      ],
      "text/plain": [
       "        RetailStore    CustomerID     ProductID          Cost\n",
       "count  56798.000000  56798.000000  56798.000000  56798.000000\n",
       "mean       3.146766   5649.794465     22.501391    182.637368\n",
       "std        1.397636   2903.974686     16.443369    116.831737\n",
       "min        1.000000   1001.000000      1.000000      0.000000\n",
       "25%        2.000000   3060.000000      9.000000    147.250000\n",
       "50%        3.000000   5550.000000     20.000000    197.250000\n",
       "75%        4.000000   8002.750000     32.000000    209.500000\n",
       "max        5.000000  11372.000000     89.000000   1812.250000"
      ]
     },
     "execution_count": 5,
     "metadata": {},
     "output_type": "execute_result"
    }
   ],
   "source": [
    "#DataFrame.describe(percentiles=None, include=None, exclude=None)\n",
    "#Generate descriptive statistics that summarize the central tendency, dispersion and shape of a dataset’s distribution, excluding NaN values.\n",
    "df.describe()"
   ]
  },
  {
   "cell_type": "code",
   "execution_count": 6,
   "metadata": {},
   "outputs": [
    {
     "data": {
      "text/plain": [
       "RetailStore          int64\n",
       "CustomerID           int64\n",
       "TransactionID       object\n",
       "TransactionTime     object\n",
       "ProductID            int64\n",
       "Cost               float64\n",
       "dtype: object"
      ]
     },
     "execution_count": 6,
     "metadata": {},
     "output_type": "execute_result"
    }
   ],
   "source": [
    "#Checking the datatypes\n",
    "df.dtypes"
   ]
  },
  {
   "cell_type": "code",
   "execution_count": 7,
   "metadata": {},
   "outputs": [],
   "source": [
    "#Converting TransactionTime from type object to type datetime64\n",
    "df['TransactionTime'] = pd.to_datetime(df['TransactionTime'])"
   ]
  },
  {
   "cell_type": "code",
   "execution_count": 8,
   "metadata": {},
   "outputs": [],
   "source": [
    "#Extracting the Year and Month from the Transaction Time\n",
    "df['Year'] = df['TransactionTime'].dt.year\n",
    "df['Month'] = df['TransactionTime'].dt.month\n",
    "#Extracting the day of the week\n",
    "df['Day_of_week'] = df['TransactionTime'].dt.weekday"
   ]
  },
  {
   "cell_type": "code",
   "execution_count": 9,
   "metadata": {},
   "outputs": [
    {
     "data": {
      "text/plain": [
       "Year\n",
       "2011    3612712.25\n",
       "2012    6760725.00\n",
       "Name: Cost, dtype: float64"
      ]
     },
     "execution_count": 9,
     "metadata": {},
     "output_type": "execute_result"
    }
   ],
   "source": [
    "#A groupby operation involves some combination of splitting the object, applying a function, and combining the results. \n",
    "#This can be used to group large amounts of data and compute operations on these groups\n",
    "\n",
    "#revenue per year\n",
    "revenue_per_year = df.groupby(['Year']).sum()['Cost']\n",
    "revenue_per_year"
   ]
  },
  {
   "cell_type": "code",
   "execution_count": 10,
   "metadata": {},
   "outputs": [
    {
     "data": {
      "text/plain": [
       "Text(0.5,1,'Revenue collected per year')"
      ]
     },
     "execution_count": 10,
     "metadata": {},
     "output_type": "execute_result"
    },
    {
     "data": {
      "image/png": "[encoded data removed]",
      "text/plain": [
       "<Figure size 432x288 with 1 Axes>"
      ]
     },
     "metadata": {},
     "output_type": "display_data"
    }
   ],
   "source": [
    "#Plotting the revenue per year using a bar graph\n",
    "revenue_per_year.plot.bar()\n",
    "plt.xlabel('Year')\n",
    "plt.ylabel('Cost')\n",
    "plt.title('Revenue collected per year')"
   ]
  },
  {
   "cell_type": "markdown",
   "metadata": {},
   "source": [
    "It can be observed that the Revenue almost doubled in the year 2012 in comparison to the previous year"
   ]
  },
  {
   "cell_type": "code",
   "execution_count": 11,
   "metadata": {},
   "outputs": [
    {
     "data": {
      "text/html": [
       "<div>\n",
       "<style scoped>\n",
       "    .dataframe tbody tr th:only-of-type {\n",
       "        vertical-align: middle;\n",
       "    }\n",
       "\n",
       "    .dataframe tbody tr th {\n",
       "        vertical-align: top;\n",
       "    }\n",
       "\n",
       "    .dataframe thead th {\n",
       "        text-align: right;\n",
       "    }\n",
       "</style>\n",
       "<table border=\"1\" class=\"dataframe\">\n",
       "  <thead>\n",
       "    <tr style=\"text-align: right;\">\n",
       "      <th></th>\n",
       "      <th>Cost</th>\n",
       "    </tr>\n",
       "    <tr>\n",
       "      <th>Month</th>\n",
       "      <th></th>\n",
       "    </tr>\n",
       "  </thead>\n",
       "  <tbody>\n",
       "    <tr>\n",
       "      <th>1</th>\n",
       "      <td>998950.50</td>\n",
       "    </tr>\n",
       "    <tr>\n",
       "      <th>2</th>\n",
       "      <td>1011785.25</td>\n",
       "    </tr>\n",
       "    <tr>\n",
       "      <th>3</th>\n",
       "      <td>1076082.75</td>\n",
       "    </tr>\n",
       "    <tr>\n",
       "      <th>4</th>\n",
       "      <td>940057.50</td>\n",
       "    </tr>\n",
       "    <tr>\n",
       "      <th>5</th>\n",
       "      <td>913122.00</td>\n",
       "    </tr>\n",
       "    <tr>\n",
       "      <th>6</th>\n",
       "      <td>814260.00</td>\n",
       "    </tr>\n",
       "    <tr>\n",
       "      <th>7</th>\n",
       "      <td>757383.75</td>\n",
       "    </tr>\n",
       "    <tr>\n",
       "      <th>8</th>\n",
       "      <td>800120.00</td>\n",
       "    </tr>\n",
       "    <tr>\n",
       "      <th>9</th>\n",
       "      <td>742421.25</td>\n",
       "    </tr>\n",
       "    <tr>\n",
       "      <th>10</th>\n",
       "      <td>783298.00</td>\n",
       "    </tr>\n",
       "    <tr>\n",
       "      <th>11</th>\n",
       "      <td>768914.25</td>\n",
       "    </tr>\n",
       "    <tr>\n",
       "      <th>12</th>\n",
       "      <td>767042.00</td>\n",
       "    </tr>\n",
       "  </tbody>\n",
       "</table>\n",
       "</div>"
      ],
      "text/plain": [
       "             Cost\n",
       "Month            \n",
       "1       998950.50\n",
       "2      1011785.25\n",
       "3      1076082.75\n",
       "4       940057.50\n",
       "5       913122.00\n",
       "6       814260.00\n",
       "7       757383.75\n",
       "8       800120.00\n",
       "9       742421.25\n",
       "10      783298.00\n",
       "11      768914.25\n",
       "12      767042.00"
      ]
     },
     "execution_count": 11,
     "metadata": {},
     "output_type": "execute_result"
    }
   ],
   "source": [
    "#Create a spreadsheet-style pivot table as a DataFrame.\n",
    "\n",
    "#revenue per month\n",
    "revenue_per_month = df.pivot_table(index='Month',values='Cost',aggfunc='sum')\n",
    "revenue_per_month"
   ]
  },
  {
   "cell_type": "code",
   "execution_count": 12,
   "metadata": {},
   "outputs": [
    {
     "data": {
      "text/plain": [
       "<matplotlib.axes._subplots.AxesSubplot at 0x1378aba8be0>"
      ]
     },
     "execution_count": 12,
     "metadata": {},
     "output_type": "execute_result"
    },
    {
     "data": {
      "image/png": "[encoded data removed]",
      "text/plain": [
       "<Figure size 432x288 with 1 Axes>"
      ]
     },
     "metadata": {},
     "output_type": "display_data"
    }
   ],
   "source": [
    "revenue_per_month.plot()"
   ]
  },
  {
   "cell_type": "markdown",
   "metadata": {},
   "source": [
    "It can be observed that the revenue was maximum in the month of March. February also saw a high revenue. But after March there has been a drastic decline.\n"
   ]
  },
  {
   "cell_type": "code",
   "execution_count": 13,
   "metadata": {},
   "outputs": [
    {
     "data": {
      "text/plain": [
       "<matplotlib.axes._subplots.AxesSubplot at 0x1378ac48828>"
      ]
     },
     "execution_count": 13,
     "metadata": {},
     "output_type": "execute_result"
    },
    {
     "data": {
      "image/png": "[encoded data removed]",
      "text/plain": [
       "<Figure size 432x288 with 1 Axes>"
      ]
     },
     "metadata": {},
     "output_type": "display_data"
    }
   ],
   "source": [
    "#Cost frequency\n",
    "sns.distplot(df.Cost,bins=50,rug=True,color ='r')\n"
   ]
  },
  {
   "cell_type": "code",
   "execution_count": 14,
   "metadata": {},
   "outputs": [
    {
     "name": "stdout",
     "output_type": "stream",
     "text": [
      "4    13490\n",
      "5    12490\n",
      "2    11548\n",
      "3     9977\n",
      "1     9293\n",
      "Name: RetailStore, dtype: int64\n"
     ]
    },
    {
     "data": {
      "text/plain": [
       "<matplotlib.axes._subplots.AxesSubplot at 0x1378e377860>"
      ]
     },
     "execution_count": 14,
     "metadata": {},
     "output_type": "execute_result"
    },
    {
     "data": {
      "image/png": "[encoded data removed]",
      "text/plain": [
       "<Figure size 432x288 with 1 Axes>"
      ]
     },
     "metadata": {},
     "output_type": "display_data"
    }
   ],
   "source": [
    "#Retail stores from which the products where purchased\n",
    "a = df['RetailStore'].value_counts()\n",
    "print(a)\n",
    "af = a.to_frame()\n",
    "af['Count'] = af['RetailStore']\n",
    "af.drop(columns='RetailStore')\n",
    "af['RetailStore'] = list(af.index)\n",
    "sns.barplot(x=af.RetailStore,y=af.Count)"
   ]
  },
  {
   "cell_type": "markdown",
   "metadata": {},
   "source": [
    "Retail outlet no 4 has the maximum number of purchases\n",
    "Retail outlet no 1 has minimum number of purchases"
   ]
  },
  {
   "cell_type": "code",
   "execution_count": 15,
   "metadata": {},
   "outputs": [],
   "source": [
    "sizes = df.groupby('Day_of_week').count()['CustomerID']"
   ]
  },
  {
   "cell_type": "code",
   "execution_count": 16,
   "metadata": {},
   "outputs": [
    {
     "data": {
      "text/plain": [
       "[]"
      ]
     },
     "execution_count": 16,
     "metadata": {},
     "output_type": "execute_result"
    },
    {
     "data": {
      "image/png": "[encoded data removed]",
      "text/plain": [
       "<Figure size 432x288 with 1 Axes>"
      ]
     },
     "metadata": {},
     "output_type": "display_data"
    }
   ],
   "source": [
    "#Purchases based on the day of the week\n",
    "labels = ['Sun','Mon','Tue','Wed','Thu','Fri','Sat']\n",
    "plt.pie(sizes,labels=labels,autopct='%1.1f%%', shadow=True, startangle=90)\n",
    "plt.title('Revenue by day of week')\n",
    "plt.plot()"
   ]
  },
  {
   "cell_type": "markdown",
   "metadata": {},
   "source": [
    "Tuesday saw the maximum generation of revenue while Friday had the least."
   ]
  },
  {
   "cell_type": "code",
   "execution_count": 17,
   "metadata": {},
   "outputs": [
    {
     "data": {
      "text/plain": [
       "<seaborn.axisgrid.JointGrid at 0x1378ac31c18>"
      ]
     },
     "execution_count": 17,
     "metadata": {},
     "output_type": "execute_result"
    },
    {
     "data": {
      "image/png": "[encoded data removed]",
      "text/plain": [
       "<Figure size 432x432 with 3 Axes>"
      ]
     },
     "metadata": {},
     "output_type": "display_data"
    }
   ],
   "source": [
    "#Plot showing the prices of products purchased from the Retail Store\n",
    "sns.jointplot(df['ProductID'],df['Cost'],kind='reg')\n"
   ]
  },
  {
   "cell_type": "code",
   "execution_count": 18,
   "metadata": {},
   "outputs": [
    {
     "data": {
      "text/plain": [
       "<matplotlib.axes._subplots.AxesSubplot at 0x1378e533ba8>"
      ]
     },
     "execution_count": 18,
     "metadata": {},
     "output_type": "execute_result"
    },
    {
     "data": {
      "image/png": "[encoded data removed]",
      "text/plain": [
       "<Figure size 432x288 with 1 Axes>"
      ]
     },
     "metadata": {},
     "output_type": "display_data"
    }
   ],
   "source": [
    "sns.boxplot(df['RetailStore'],df['CustomerID'])\n"
   ]
  },
  {
   "cell_type": "code",
   "execution_count": 22,
   "metadata": {},
   "outputs": [
    {
     "name": "stdout",
     "output_type": "stream",
     "text": [
      "Product  12661    1812.25\n",
      "Name: Cost, dtype: float64\n"
     ]
    }
   ],
   "source": [
    "#Most expensive product id and it's cost\n",
    "ecost = df['Cost'].max()\n",
    "eid = df[df['Cost'] == ecost]\n",
    "print(\"Product \",eid['Cost'])"
   ]
  },
  {
   "cell_type": "code",
   "execution_count": 23,
   "metadata": {},
   "outputs": [
    {
     "name": "stdout",
     "output_type": "stream",
     "text": [
      "Product  15632    0.0\n",
      "41878    0.0\n",
      "Name: Cost, dtype: float64\n"
     ]
    }
   ],
   "source": [
    "#Least expensive product id and it's cost\n",
    "lcost = df['Cost'].min()\n",
    "lid = df[df['Cost'] == lcost]\n",
    "print(\"Product \",lid['Cost'])"
   ]
  },
  {
   "cell_type": "markdown",
   "metadata": {},
   "source": [
    "So the most expensive product(s) is 12661(productid) priced at 1812.25\n",
    "The least expensive product(s) is 15632 and 41878 priced at 0.0"
   ]
  },
  {
   "cell_type": "code",
   "execution_count": 24,
   "metadata": {},
   "outputs": [
    {
     "data": {
      "text/plain": [
       "Timestamp('2011-01-01 00:00:00')"
      ]
     },
     "execution_count": 24,
     "metadata": {},
     "output_type": "execute_result"
    }
   ],
   "source": [
    "#Oldest transaction\n",
    "df['TransactionTime'].min()"
   ]
  },
  {
   "cell_type": "code",
   "execution_count": 25,
   "metadata": {},
   "outputs": [
    {
     "data": {
      "text/plain": [
       "Timestamp('2012-12-31 00:00:00')"
      ]
     },
     "execution_count": 25,
     "metadata": {},
     "output_type": "execute_result"
    }
   ],
   "source": [
    "#Most recent transaction\n",
    "df['TransactionTime'].max()"
   ]
  },
  {
   "cell_type": "code",
   "execution_count": 26,
   "metadata": {},
   "outputs": [
    {
     "data": {
      "text/plain": [
       "ProductID\n",
       "9     2864\n",
       "5     2777\n",
       "15    2736\n",
       "1     2414\n",
       "18    2375\n",
       "37    2360\n",
       "26    2282\n",
       "11    2257\n",
       "4     2122\n",
       "23    1975\n",
       "Name: RetailStore, dtype: int64"
      ]
     },
     "execution_count": 26,
     "metadata": {},
     "output_type": "execute_result"
    }
   ],
   "source": [
    "#The retail store wants the list of Top 10 trending products\n",
    "df.groupby('ProductID').count()['RetailStore'].sort_values(ascending=False).head(10)"
   ]
  },
  {
   "cell_type": "code",
   "execution_count": 27,
   "metadata": {},
   "outputs": [
    {
     "data": {
      "text/plain": [
       "ProductID\n",
       "89     1\n",
       "63     3\n",
       "88     5\n",
       "73     5\n",
       "68     6\n",
       "81     7\n",
       "87     9\n",
       "69     9\n",
       "86    10\n",
       "76    11\n",
       "Name: RetailStore, dtype: int64"
      ]
     },
     "execution_count": 27,
     "metadata": {},
     "output_type": "execute_result"
    }
   ],
   "source": [
    "#The retail store wants the list of underperforming products to use strategies accordingly to boost sales\n",
    "df.groupby('ProductID').count()['RetailStore'].sort_values().head(10)"
   ]
  },
  {
   "cell_type": "code",
   "execution_count": 28,
   "metadata": {},
   "outputs": [
    {
     "data": {
      "text/plain": [
       "RetailStore\n",
       "4    13490\n",
       "5    12490\n",
       "2    11548\n",
       "3     9977\n",
       "1     9293\n",
       "Name: ProductID, dtype: int64"
      ]
     },
     "execution_count": 28,
     "metadata": {},
     "output_type": "execute_result"
    }
   ],
   "source": [
    "#Retail store outlets ranked in the order of no of products sold \n",
    "df.groupby('RetailStore').count()['ProductID'].sort_values(ascending=False)"
   ]
  },
  {
   "cell_type": "code",
   "execution_count": 29,
   "metadata": {},
   "outputs": [
    {
     "data": {
      "text/plain": [
       "RetailStore\n",
       "2    2462940.50\n",
       "4    2328376.50\n",
       "5    2227462.25\n",
       "3    1686689.75\n",
       "1    1667968.25\n",
       "Name: Cost, dtype: float64"
      ]
     },
     "execution_count": 29,
     "metadata": {},
     "output_type": "execute_result"
    }
   ],
   "source": [
    "#Retail store outlets ranked in the order of revenue generated\n",
    "df.groupby('RetailStore').sum()['Cost'].sort_values(ascending=False)"
   ]
  }
 ],
 "metadata": {
  "kernelspec": {
   "display_name": "Python 3",
   "language": "python",
   "name": "python3"
  },
  "language_info": {
   "codemirror_mode": {
    "name": "ipython",
    "version": 3
   },
   "file_extension": ".py",
   "mimetype": "text/x-python",
   "name": "python",
   "nbconvert_exporter": "python",
   "pygments_lexer": "ipython3",
   "version": "3.6.5"
  }
 },
 "nbformat": 4,
 "nbformat_minor": 2
}
